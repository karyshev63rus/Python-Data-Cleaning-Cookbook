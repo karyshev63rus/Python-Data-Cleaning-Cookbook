{
 "cells": [
  {
   "cell_type": "code",
   "execution_count": 1,
   "metadata": {},
   "outputs": [],
   "source": [
    "# import pandas, numpy, and pyreadstat\n",
    "import pandas as pd\n",
    "import numpy as np\n",
    "import pyreadstat"
   ]
  },
  {
   "cell_type": "code",
   "execution_count": 2,
   "metadata": {},
   "outputs": [],
   "source": [
    "pd.set_option('display.max_columns', 5)\n",
    "pd.options.display.float_format = '{:,.2f}'.format\n",
    "pd.set_option('display.width', 75)"
   ]
  },
  {
   "cell_type": "code",
   "execution_count": 3,
   "metadata": {},
   "outputs": [],
   "source": [
    "# retrieve spss data, along with the meta data\n",
    "nls97spss, metaspss = pyreadstat.read_sav('data/nls97.sav')"
   ]
  },
  {
   "cell_type": "code",
   "execution_count": 4,
   "metadata": {},
   "outputs": [
    {
     "data": {
      "text/plain": [
       "R0000100    float64\n",
       "R0536300    float64\n",
       "R0536401    float64\n",
       "R0536402    float64\n",
       "R1235800    float64\n",
       "R1482600    float64\n",
       "R9793800    float64\n",
       "R9793900    float64\n",
       "R9871900    float64\n",
       "R9872000    float64\n",
       "R9872200    float64\n",
       "R9872400    float64\n",
       "S8646900    float64\n",
       "S8647000    float64\n",
       "S8647100    float64\n",
       "S8647200    float64\n",
       "S8647300    float64\n",
       "S8647400    float64\n",
       "S8647500    float64\n",
       "S8647600    float64\n",
       "S8647700    float64\n",
       "S8647800    float64\n",
       "T6651700    float64\n",
       "U1836800    float64\n",
       "U1836900    float64\n",
       "U1837000    float64\n",
       "U1837100    float64\n",
       "U1837200    float64\n",
       "U1837300    float64\n",
       "U1845400    float64\n",
       "U1852400    float64\n",
       "U1852600    float64\n",
       "U1852700    float64\n",
       "U2166200    float64\n",
       "U2166300    float64\n",
       "U2166400    float64\n",
       "U2166500    float64\n",
       "U2857300    float64\n",
       "U2962800    float64\n",
       "U2962900    float64\n",
       "U2963000    float64\n",
       "Z9063900    float64\n",
       "dtype: object"
      ]
     },
     "execution_count": 4,
     "metadata": {},
     "output_type": "execute_result"
    }
   ],
   "source": [
    "nls97spss.dtypes"
   ]
  },
  {
   "cell_type": "code",
   "execution_count": 5,
   "metadata": {},
   "outputs": [
    {
     "data": {
      "text/html": [
       "<div>\n",
       "<style scoped>\n",
       "    .dataframe tbody tr th:only-of-type {\n",
       "        vertical-align: middle;\n",
       "    }\n",
       "\n",
       "    .dataframe tbody tr th {\n",
       "        vertical-align: top;\n",
       "    }\n",
       "\n",
       "    .dataframe thead th {\n",
       "        text-align: right;\n",
       "    }\n",
       "</style>\n",
       "<table border=\"1\" class=\"dataframe\">\n",
       "  <thead>\n",
       "    <tr style=\"text-align: right;\">\n",
       "      <th></th>\n",
       "      <th>R0000100</th>\n",
       "      <th>R0536300</th>\n",
       "      <th>...</th>\n",
       "      <th>U2963000</th>\n",
       "      <th>Z9063900</th>\n",
       "    </tr>\n",
       "  </thead>\n",
       "  <tbody>\n",
       "    <tr>\n",
       "      <th>0</th>\n",
       "      <td>1.00</td>\n",
       "      <td>2.00</td>\n",
       "      <td>...</td>\n",
       "      <td>nan</td>\n",
       "      <td>52.00</td>\n",
       "    </tr>\n",
       "    <tr>\n",
       "      <th>1</th>\n",
       "      <td>2.00</td>\n",
       "      <td>1.00</td>\n",
       "      <td>...</td>\n",
       "      <td>6.00</td>\n",
       "      <td>0.00</td>\n",
       "    </tr>\n",
       "    <tr>\n",
       "      <th>2</th>\n",
       "      <td>3.00</td>\n",
       "      <td>2.00</td>\n",
       "      <td>...</td>\n",
       "      <td>6.00</td>\n",
       "      <td>0.00</td>\n",
       "    </tr>\n",
       "    <tr>\n",
       "      <th>3</th>\n",
       "      <td>4.00</td>\n",
       "      <td>2.00</td>\n",
       "      <td>...</td>\n",
       "      <td>6.00</td>\n",
       "      <td>4.00</td>\n",
       "    </tr>\n",
       "    <tr>\n",
       "      <th>4</th>\n",
       "      <td>5.00</td>\n",
       "      <td>1.00</td>\n",
       "      <td>...</td>\n",
       "      <td>5.00</td>\n",
       "      <td>12.00</td>\n",
       "    </tr>\n",
       "  </tbody>\n",
       "</table>\n",
       "<p>5 rows × 42 columns</p>\n",
       "</div>"
      ],
      "text/plain": [
       "   R0000100  R0536300  ...  U2963000  Z9063900\n",
       "0      1.00      2.00  ...       nan     52.00\n",
       "1      2.00      1.00  ...      6.00      0.00\n",
       "2      3.00      2.00  ...      6.00      0.00\n",
       "3      4.00      2.00  ...      6.00      4.00\n",
       "4      5.00      1.00  ...      5.00     12.00\n",
       "\n",
       "[5 rows x 42 columns]"
      ]
     },
     "execution_count": 5,
     "metadata": {},
     "output_type": "execute_result"
    }
   ],
   "source": [
    "nls97spss.head()"
   ]
  },
  {
   "cell_type": "code",
   "execution_count": 6,
   "metadata": {},
   "outputs": [
    {
     "data": {
      "text/plain": [
       "1.00   0.51\n",
       "2.00   0.49\n",
       "Name: R0536300, dtype: float64"
      ]
     },
     "execution_count": 6,
     "metadata": {},
     "output_type": "execute_result"
    }
   ],
   "source": [
    "nls97spss['R0536300'].value_counts(normalize=True)"
   ]
  },
  {
   "cell_type": "code",
   "execution_count": 7,
   "metadata": {},
   "outputs": [
    {
     "data": {
      "text/plain": [
       "{0.0: 'No Information', 1.0: 'Male', 2.0: 'Female'}"
      ]
     },
     "execution_count": 7,
     "metadata": {},
     "output_type": "execute_result"
    }
   ],
   "source": [
    "# use column labels and value labels\n",
    "metaspss.variable_value_labels['R0536300']"
   ]
  },
  {
   "cell_type": "code",
   "execution_count": 8,
   "metadata": {},
   "outputs": [
    {
     "data": {
      "text/plain": [
       "Male     0.51\n",
       "Female   0.49\n",
       "Name: R0536300, dtype: float64"
      ]
     },
     "execution_count": 8,
     "metadata": {},
     "output_type": "execute_result"
    }
   ],
   "source": [
    "nls97spss['R0536300'].\\\n",
    "  map(metaspss.variable_value_labels['R0536300']).\\\n",
    "  value_counts(normalize=True)"
   ]
  },
  {
   "cell_type": "code",
   "execution_count": 9,
   "metadata": {},
   "outputs": [
    {
     "data": {
      "text/plain": [
       "Male     0.51\n",
       "Female   0.49\n",
       "Name: KEY!SEX (SYMBOL) 1997, dtype: float64"
      ]
     },
     "execution_count": 9,
     "metadata": {},
     "output_type": "execute_result"
    }
   ],
   "source": [
    "nls97spss = pyreadstat.set_value_labels(nls97spss, metaspss, formats_as_category=True)\n",
    "nls97spss.columns = metaspss.column_labels\n",
    "nls97spss['KEY!SEX (SYMBOL) 1997'].value_counts(normalize=True)"
   ]
  },
  {
   "cell_type": "code",
   "execution_count": 10,
   "metadata": {},
   "outputs": [
    {
     "data": {
      "text/plain": [
       "PUBID - YTH ID CODE 1997                        float64\n",
       "KEY!SEX (SYMBOL) 1997                          category\n",
       "KEY!BDATE M/Y (SYMBOL) 1997                     float64\n",
       "KEY!BDATE M/Y (SYMBOL) 1997                     float64\n",
       "CV_SAMPLE_TYPE 1997                            category\n",
       "KEY!RACE_ETHNICITY (SYMBOL) 1997               category\n",
       "TRANS_SAT_VERBAL HSTR                           float64\n",
       "TRANS_SAT_MATH HSTR                             float64\n",
       "TRANS CRD GPA OVERALL HSTR                      float64\n",
       "TRANS CRD GPA ENG HSTR                          float64\n",
       "TRANS CRD GPA MATH HSTR                         float64\n",
       "TRANS CRD GPA LP SCI HSTR                       float64\n",
       "GOVT RESPONSIBILITY - PROVIDE JOBS 2006        category\n",
       "GOVT RESPNSBLTY - KEEP PRICES UND CTRL 2006    category\n",
       "GOVT RESPNSBLTY - HLTH CARE FOR SICK 2006      category\n",
       "GOVT RESPNSBLTY -PROV ELD LIV STAND 2006       category\n",
       "GOVT RESPNSBLTY -PROV IND HELP 2006            category\n",
       "GOVT RESPNSBLTY -PROV UNEMP LIV STAND 2006     category\n",
       "GOVT RESPNSBLTY -REDUCE INC DIFF 2006          category\n",
       "GOVT RESPNSBLTY -PROV COLL FIN AID 2006        category\n",
       "GOVT RESPNSBLTY -PROV DECENT HOUSING 2006      category\n",
       "GOVT RESPNSBLTY -PROTECT ENVIRONMENT 2006      category\n",
       "CV_BA_CREDITS L1 2011                           float64\n",
       "CV_COLLEGE_TYPE L1 2017                        category\n",
       "CV_COLLEGE_TYPE L2 2017                        category\n",
       "CV_COLLEGE_TYPE L3 2017                        category\n",
       "CV_COLLEGE_TYPE L4 2017                        category\n",
       "CV_COLLEGE_TYPE L5 2017                        category\n",
       "CV_COLLEGE_TYPE L6 2017                        category\n",
       "CV_HGC_EVER 2017                               category\n",
       "CV_MARSTAT_COLLAPSED 2017                      category\n",
       "CV_BIO_CHILD_HH 2017                            float64\n",
       "CV_BIO_CHILD_NR 2017                            float64\n",
       "DIPLOMA/DEGREE RCVD? L1 2017                   category\n",
       "DIPLOMA/DEGREE RCVD? L2 2017                   category\n",
       "DIPLOMA/DEGREE RCVD? L3 2017                   category\n",
       "DIPLOMA/DEGREE RCVD? L4 2017                   category\n",
       "EST INC WAGES, TIPS PAST YR 2017               category\n",
       "HRS/WK R USES A COMPUTER 2017                  category\n",
       "HRS/WK R WATCHES TELEVISION 2017               category\n",
       "HRS/NIGHT R SLEEPS 2017                         float64\n",
       "CVC_WKSWK_YR_ALL L99                            float64\n",
       "dtype: object"
      ]
     },
     "execution_count": 10,
     "metadata": {},
     "output_type": "execute_result"
    }
   ],
   "source": [
    "nls97spss.dtypes"
   ]
  },
  {
   "cell_type": "code",
   "execution_count": 11,
   "metadata": {},
   "outputs": [],
   "source": [
    "nls97spss.columns = nls97spss.columns.\\\n",
    "    str.lower().\\\n",
    "    str.replace(' ','_').\\\n",
    "    str.replace('[^a-z0-9_]', '')"
   ]
  },
  {
   "cell_type": "code",
   "execution_count": 12,
   "metadata": {},
   "outputs": [],
   "source": [
    "nls97spss.set_index('pubid__yth_id_code_1997', inplace=True)"
   ]
  },
  {
   "cell_type": "code",
   "execution_count": 13,
   "metadata": {},
   "outputs": [
    {
     "data": {
      "text/plain": [
       "pubid__yth_id_code_1997                        float64\n",
       "keysex_symbol_1997                            category\n",
       "keybdate_my_symbol_1997                        float64\n",
       "keybdate_my_symbol_1997                        float64\n",
       "cv_sample_type_1997                           category\n",
       "keyrace_ethnicity_symbol_1997                 category\n",
       "trans_sat_verbal_hstr                          float64\n",
       "trans_sat_math_hstr                            float64\n",
       "trans_crd_gpa_overall_hstr                     float64\n",
       "trans_crd_gpa_eng_hstr                         float64\n",
       "trans_crd_gpa_math_hstr                        float64\n",
       "trans_crd_gpa_lp_sci_hstr                      float64\n",
       "govt_responsibility__provide_jobs_2006        category\n",
       "govt_respnsblty__keep_prices_und_ctrl_2006    category\n",
       "govt_respnsblty__hlth_care_for_sick_2006      category\n",
       "govt_respnsblty_prov_eld_liv_stand_2006       category\n",
       "govt_respnsblty_prov_ind_help_2006            category\n",
       "govt_respnsblty_prov_unemp_liv_stand_2006     category\n",
       "govt_respnsblty_reduce_inc_diff_2006          category\n",
       "govt_respnsblty_prov_coll_fin_aid_2006        category\n",
       "govt_respnsblty_prov_decent_housing_2006      category\n",
       "govt_respnsblty_protect_environment_2006      category\n",
       "cv_ba_credits_l1_2011                          float64\n",
       "cv_college_type_l1_2017                       category\n",
       "cv_college_type_l2_2017                       category\n",
       "cv_college_type_l3_2017                       category\n",
       "cv_college_type_l4_2017                       category\n",
       "cv_college_type_l5_2017                       category\n",
       "cv_college_type_l6_2017                       category\n",
       "cv_hgc_ever_2017                              category\n",
       "cv_marstat_collapsed_2017                     category\n",
       "cv_bio_child_hh_2017                           float64\n",
       "cv_bio_child_nr_2017                           float64\n",
       "diplomadegree_rcvd_l1_2017                    category\n",
       "diplomadegree_rcvd_l2_2017                    category\n",
       "diplomadegree_rcvd_l3_2017                    category\n",
       "diplomadegree_rcvd_l4_2017                    category\n",
       "est_inc_wages_tips_past_yr_2017               category\n",
       "hrswk_r_uses_a_computer_2017                  category\n",
       "hrswk_r_watches_television_2017               category\n",
       "hrsnight_r_sleeps_2017                         float64\n",
       "cvc_wkswk_yr_all_l99                           float64\n",
       "dtype: object"
      ]
     },
     "execution_count": 13,
     "metadata": {},
     "output_type": "execute_result"
    }
   ],
   "source": [
    "# apply the formats from the beginning\n",
    "nls97spss, metaspss = pyreadstat.read_sav('data/nls97.sav', apply_value_formats=True, formats_as_category=True)\n",
    "nls97spss.columns = metaspss.column_labels\n",
    "nls97spss.columns = nls97spss.columns.\\\n",
    "  str.lower().\\\n",
    "  str.replace(' ','_').\\\n",
    "  str.replace('[^a-z0-9_]', '')\n",
    "nls97spss.dtypes"
   ]
  },
  {
   "cell_type": "code",
   "execution_count": 14,
   "metadata": {},
   "outputs": [
    {
     "data": {
      "text/html": [
       "<div>\n",
       "<style scoped>\n",
       "    .dataframe tbody tr th:only-of-type {\n",
       "        vertical-align: middle;\n",
       "    }\n",
       "\n",
       "    .dataframe tbody tr th {\n",
       "        vertical-align: top;\n",
       "    }\n",
       "\n",
       "    .dataframe thead th {\n",
       "        text-align: right;\n",
       "    }\n",
       "</style>\n",
       "<table border=\"1\" class=\"dataframe\">\n",
       "  <thead>\n",
       "    <tr style=\"text-align: right;\">\n",
       "      <th></th>\n",
       "      <th>pubid__yth_id_code_1997</th>\n",
       "      <th>keysex_symbol_1997</th>\n",
       "      <th>...</th>\n",
       "      <th>hrsnight_r_sleeps_2017</th>\n",
       "      <th>cvc_wkswk_yr_all_l99</th>\n",
       "    </tr>\n",
       "  </thead>\n",
       "  <tbody>\n",
       "    <tr>\n",
       "      <th>0</th>\n",
       "      <td>1.00</td>\n",
       "      <td>Female</td>\n",
       "      <td>...</td>\n",
       "      <td>nan</td>\n",
       "      <td>52.00</td>\n",
       "    </tr>\n",
       "    <tr>\n",
       "      <th>1</th>\n",
       "      <td>2.00</td>\n",
       "      <td>Male</td>\n",
       "      <td>...</td>\n",
       "      <td>6.00</td>\n",
       "      <td>0.00</td>\n",
       "    </tr>\n",
       "    <tr>\n",
       "      <th>2</th>\n",
       "      <td>3.00</td>\n",
       "      <td>Female</td>\n",
       "      <td>...</td>\n",
       "      <td>6.00</td>\n",
       "      <td>0.00</td>\n",
       "    </tr>\n",
       "    <tr>\n",
       "      <th>3</th>\n",
       "      <td>4.00</td>\n",
       "      <td>Female</td>\n",
       "      <td>...</td>\n",
       "      <td>6.00</td>\n",
       "      <td>4.00</td>\n",
       "    </tr>\n",
       "    <tr>\n",
       "      <th>4</th>\n",
       "      <td>5.00</td>\n",
       "      <td>Male</td>\n",
       "      <td>...</td>\n",
       "      <td>5.00</td>\n",
       "      <td>12.00</td>\n",
       "    </tr>\n",
       "  </tbody>\n",
       "</table>\n",
       "<p>5 rows × 42 columns</p>\n",
       "</div>"
      ],
      "text/plain": [
       "   pubid__yth_id_code_1997 keysex_symbol_1997  ...  \\\n",
       "0                     1.00             Female  ...   \n",
       "1                     2.00               Male  ...   \n",
       "2                     3.00             Female  ...   \n",
       "3                     4.00             Female  ...   \n",
       "4                     5.00               Male  ...   \n",
       "\n",
       "   hrsnight_r_sleeps_2017  cvc_wkswk_yr_all_l99  \n",
       "0                     nan                 52.00  \n",
       "1                    6.00                  0.00  \n",
       "2                    6.00                  0.00  \n",
       "3                    6.00                  4.00  \n",
       "4                    5.00                 12.00  \n",
       "\n",
       "[5 rows x 42 columns]"
      ]
     },
     "execution_count": 14,
     "metadata": {},
     "output_type": "execute_result"
    }
   ],
   "source": [
    "nls97spss.head()"
   ]
  },
  {
   "cell_type": "code",
   "execution_count": 15,
   "metadata": {},
   "outputs": [
    {
     "data": {
      "text/plain": [
       "Definitely should be        454\n",
       "Definitely should not be    300\n",
       "Probably should be          617\n",
       "Probably should not be      462\n",
       "Name: govt_responsibility__provide_jobs_2006, dtype: int64"
      ]
     },
     "execution_count": 15,
     "metadata": {},
     "output_type": "execute_result"
    }
   ],
   "source": [
    "nls97spss.govt_responsibility__provide_jobs_2006.\\\n",
    "  value_counts(sort=False)"
   ]
  },
  {
   "cell_type": "code",
   "execution_count": 16,
   "metadata": {},
   "outputs": [],
   "source": [
    "nls97spss.set_index('pubid__yth_id_code_1997', inplace=True)"
   ]
  },
  {
   "cell_type": "code",
   "execution_count": 17,
   "metadata": {},
   "outputs": [
    {
     "data": {
      "text/plain": [
       "pubid__yth_id_code_1997                        float64\n",
       "keysex_symbol_1997                            category\n",
       "keybdate_my_symbol_1997                        float64\n",
       "keybdate_my_symbol_1997                        float64\n",
       "cv_sample_type_1997                           category\n",
       "keyrace_ethnicity_symbol_1997                 category\n",
       "trans_sat_verbal_hstr                          float64\n",
       "trans_sat_math_hstr                            float64\n",
       "trans_crd_gpa_overall_hstr                     float64\n",
       "trans_crd_gpa_eng_hstr                         float64\n",
       "trans_crd_gpa_math_hstr                        float64\n",
       "trans_crd_gpa_lp_sci_hstr                      float64\n",
       "govt_responsibility__provide_jobs_2006        category\n",
       "govt_respnsblty__keep_prices_und_ctrl_2006    category\n",
       "govt_respnsblty__hlth_care_for_sick_2006      category\n",
       "govt_respnsblty_prov_eld_liv_stand_2006       category\n",
       "govt_respnsblty_prov_ind_help_2006            category\n",
       "govt_respnsblty_prov_unemp_liv_stand_2006     category\n",
       "govt_respnsblty_reduce_inc_diff_2006          category\n",
       "govt_respnsblty_prov_coll_fin_aid_2006        category\n",
       "govt_respnsblty_prov_decent_housing_2006      category\n",
       "govt_respnsblty_protect_environment_2006      category\n",
       "cv_ba_credits_l1_2011                          float64\n",
       "cv_college_type_l1_2017                       category\n",
       "cv_college_type_l2_2017                       category\n",
       "cv_college_type_l3_2017                       category\n",
       "cv_college_type_l4_2017                       category\n",
       "cv_college_type_l5_2017                       category\n",
       "cv_college_type_l6_2017                       category\n",
       "cv_hgc_ever_2017                              category\n",
       "cv_marstat_collapsed_2017                     category\n",
       "cv_bio_child_hh_2017                           float64\n",
       "cv_bio_child_nr_2017                           float64\n",
       "diplomadegree_rcvd_l1_2017                    category\n",
       "diplomadegree_rcvd_l2_2017                    category\n",
       "diplomadegree_rcvd_l3_2017                    category\n",
       "diplomadegree_rcvd_l4_2017                    category\n",
       "est_inc_wages_tips_past_yr_2017               category\n",
       "hrswk_r_uses_a_computer_2017                  category\n",
       "hrswk_r_watches_television_2017               category\n",
       "hrsnight_r_sleeps_2017                         float64\n",
       "cvc_wkswk_yr_all_l99                           float64\n",
       "dtype: object"
      ]
     },
     "execution_count": 17,
     "metadata": {},
     "output_type": "execute_result"
    }
   ],
   "source": [
    "# do the same for stata data\n",
    "nls97stata, metastata = pyreadstat.read_dta('data/nls97.dta', apply_value_formats=True, formats_as_category=True)\n",
    "nls97stata.columns = metastata.column_labels\n",
    "nls97stata.columns = nls97stata.columns.\\\n",
    "    str.lower().\\\n",
    "    str.replace(' ','_').\\\n",
    "    str.replace('[^a-z0-9_]', '')\n",
    "nls97stata.dtypes"
   ]
  },
  {
   "cell_type": "code",
   "execution_count": 18,
   "metadata": {},
   "outputs": [
    {
     "data": {
      "text/html": [
       "<div>\n",
       "<style scoped>\n",
       "    .dataframe tbody tr th:only-of-type {\n",
       "        vertical-align: middle;\n",
       "    }\n",
       "\n",
       "    .dataframe tbody tr th {\n",
       "        vertical-align: top;\n",
       "    }\n",
       "\n",
       "    .dataframe thead th {\n",
       "        text-align: right;\n",
       "    }\n",
       "</style>\n",
       "<table border=\"1\" class=\"dataframe\">\n",
       "  <thead>\n",
       "    <tr style=\"text-align: right;\">\n",
       "      <th></th>\n",
       "      <th>pubid__yth_id_code_1997</th>\n",
       "      <th>keysex_symbol_1997</th>\n",
       "      <th>...</th>\n",
       "      <th>hrsnight_r_sleeps_2017</th>\n",
       "      <th>cvc_wkswk_yr_all_l99</th>\n",
       "    </tr>\n",
       "  </thead>\n",
       "  <tbody>\n",
       "    <tr>\n",
       "      <th>0</th>\n",
       "      <td>1.00</td>\n",
       "      <td>Female</td>\n",
       "      <td>...</td>\n",
       "      <td>-5.00</td>\n",
       "      <td>52.00</td>\n",
       "    </tr>\n",
       "    <tr>\n",
       "      <th>1</th>\n",
       "      <td>2.00</td>\n",
       "      <td>Male</td>\n",
       "      <td>...</td>\n",
       "      <td>6.00</td>\n",
       "      <td>0.00</td>\n",
       "    </tr>\n",
       "    <tr>\n",
       "      <th>2</th>\n",
       "      <td>3.00</td>\n",
       "      <td>Female</td>\n",
       "      <td>...</td>\n",
       "      <td>6.00</td>\n",
       "      <td>0.00</td>\n",
       "    </tr>\n",
       "    <tr>\n",
       "      <th>3</th>\n",
       "      <td>4.00</td>\n",
       "      <td>Female</td>\n",
       "      <td>...</td>\n",
       "      <td>6.00</td>\n",
       "      <td>4.00</td>\n",
       "    </tr>\n",
       "    <tr>\n",
       "      <th>4</th>\n",
       "      <td>5.00</td>\n",
       "      <td>Male</td>\n",
       "      <td>...</td>\n",
       "      <td>5.00</td>\n",
       "      <td>12.00</td>\n",
       "    </tr>\n",
       "  </tbody>\n",
       "</table>\n",
       "<p>5 rows × 42 columns</p>\n",
       "</div>"
      ],
      "text/plain": [
       "   pubid__yth_id_code_1997 keysex_symbol_1997  ...  \\\n",
       "0                     1.00             Female  ...   \n",
       "1                     2.00               Male  ...   \n",
       "2                     3.00             Female  ...   \n",
       "3                     4.00             Female  ...   \n",
       "4                     5.00               Male  ...   \n",
       "\n",
       "   hrsnight_r_sleeps_2017  cvc_wkswk_yr_all_l99  \n",
       "0                   -5.00                 52.00  \n",
       "1                    6.00                  0.00  \n",
       "2                    6.00                  0.00  \n",
       "3                    6.00                  4.00  \n",
       "4                    5.00                 12.00  \n",
       "\n",
       "[5 rows x 42 columns]"
      ]
     },
     "execution_count": 18,
     "metadata": {},
     "output_type": "execute_result"
    }
   ],
   "source": [
    "nls97stata.head()"
   ]
  },
  {
   "cell_type": "code",
   "execution_count": 19,
   "metadata": {},
   "outputs": [
    {
     "data": {
      "text/plain": [
       "-5.0                        1425\n",
       "-4.0                        5665\n",
       "-2.0                          56\n",
       "-1.0                           5\n",
       "Definitely should be         454\n",
       "Definitely should not be     300\n",
       "Probably should be           617\n",
       "Probably should not be       462\n",
       "Name: govt_responsibility__provide_jobs_2006, dtype: int64"
      ]
     },
     "execution_count": 19,
     "metadata": {},
     "output_type": "execute_result"
    }
   ],
   "source": [
    "nls97stata.govt_responsibility__provide_jobs_2006.\\\n",
    "  value_counts(sort=False)"
   ]
  },
  {
   "cell_type": "code",
   "execution_count": 20,
   "metadata": {},
   "outputs": [
    {
     "data": {
      "text/plain": [
       "pubid__yth_id_code_1997          1.00\n",
       "keybdate_my_symbol_1997          1.00\n",
       "keybdate_my_symbol_1997      1,980.00\n",
       "trans_sat_verbal_hstr           -4.00\n",
       "trans_sat_math_hstr             -4.00\n",
       "trans_crd_gpa_overall_hstr      -9.00\n",
       "trans_crd_gpa_eng_hstr          -9.00\n",
       "trans_crd_gpa_math_hstr         -9.00\n",
       "trans_crd_gpa_lp_sci_hstr       -9.00\n",
       "cv_ba_credits_l1_2011           -5.00\n",
       "cv_bio_child_hh_2017            -5.00\n",
       "cv_bio_child_nr_2017            -5.00\n",
       "hrsnight_r_sleeps_2017          -5.00\n",
       "cvc_wkswk_yr_all_l99            -4.00\n",
       "dtype: float64"
      ]
     },
     "execution_count": 20,
     "metadata": {},
     "output_type": "execute_result"
    }
   ],
   "source": [
    "nls97stata.min()"
   ]
  },
  {
   "cell_type": "code",
   "execution_count": 21,
   "metadata": {},
   "outputs": [],
   "source": [
    "nls97stata.replace(list(range(-9,0)), np.nan, inplace=True)"
   ]
  },
  {
   "cell_type": "code",
   "execution_count": 22,
   "metadata": {},
   "outputs": [
    {
     "data": {
      "text/plain": [
       "pubid__yth_id_code_1997          1.00\n",
       "keybdate_my_symbol_1997          1.00\n",
       "keybdate_my_symbol_1997      1,980.00\n",
       "trans_sat_verbal_hstr           14.00\n",
       "trans_sat_math_hstr              7.00\n",
       "trans_crd_gpa_overall_hstr      10.00\n",
       "trans_crd_gpa_eng_hstr           0.00\n",
       "trans_crd_gpa_math_hstr          0.00\n",
       "trans_crd_gpa_lp_sci_hstr        0.00\n",
       "cv_ba_credits_l1_2011            0.00\n",
       "cv_bio_child_hh_2017             0.00\n",
       "cv_bio_child_nr_2017             0.00\n",
       "hrsnight_r_sleeps_2017           0.00\n",
       "cvc_wkswk_yr_all_l99             0.00\n",
       "dtype: float64"
      ]
     },
     "execution_count": 22,
     "metadata": {},
     "output_type": "execute_result"
    }
   ],
   "source": [
    "nls97stata.min()"
   ]
  },
  {
   "cell_type": "code",
   "execution_count": 23,
   "metadata": {},
   "outputs": [],
   "source": [
    "nls97stata.set_index('pubid__yth_id_code_1997', inplace=True)"
   ]
  },
  {
   "cell_type": "code",
   "execution_count": 24,
   "metadata": {},
   "outputs": [
    {
     "data": {
      "text/html": [
       "<div>\n",
       "<style scoped>\n",
       "    .dataframe tbody tr th:only-of-type {\n",
       "        vertical-align: middle;\n",
       "    }\n",
       "\n",
       "    .dataframe tbody tr th {\n",
       "        vertical-align: top;\n",
       "    }\n",
       "\n",
       "    .dataframe thead th {\n",
       "        text-align: right;\n",
       "    }\n",
       "</style>\n",
       "<table border=\"1\" class=\"dataframe\">\n",
       "  <thead>\n",
       "    <tr style=\"text-align: right;\">\n",
       "      <th></th>\n",
       "      <th>pubid__yth_id_code_1997</th>\n",
       "      <th>keysex_symbol_1997</th>\n",
       "      <th>...</th>\n",
       "      <th>hrsnight_r_sleeps_2017</th>\n",
       "      <th>cvc_wkswk_yr_all_l99</th>\n",
       "    </tr>\n",
       "  </thead>\n",
       "  <tbody>\n",
       "    <tr>\n",
       "      <th>0</th>\n",
       "      <td>1.00</td>\n",
       "      <td>Female</td>\n",
       "      <td>...</td>\n",
       "      <td>nan</td>\n",
       "      <td>52.00</td>\n",
       "    </tr>\n",
       "    <tr>\n",
       "      <th>1</th>\n",
       "      <td>2.00</td>\n",
       "      <td>Male</td>\n",
       "      <td>...</td>\n",
       "      <td>6.00</td>\n",
       "      <td>0.00</td>\n",
       "    </tr>\n",
       "    <tr>\n",
       "      <th>2</th>\n",
       "      <td>3.00</td>\n",
       "      <td>Female</td>\n",
       "      <td>...</td>\n",
       "      <td>6.00</td>\n",
       "      <td>0.00</td>\n",
       "    </tr>\n",
       "    <tr>\n",
       "      <th>3</th>\n",
       "      <td>4.00</td>\n",
       "      <td>Female</td>\n",
       "      <td>...</td>\n",
       "      <td>6.00</td>\n",
       "      <td>4.00</td>\n",
       "    </tr>\n",
       "    <tr>\n",
       "      <th>4</th>\n",
       "      <td>5.00</td>\n",
       "      <td>Male</td>\n",
       "      <td>...</td>\n",
       "      <td>5.00</td>\n",
       "      <td>12.00</td>\n",
       "    </tr>\n",
       "  </tbody>\n",
       "</table>\n",
       "<p>5 rows × 42 columns</p>\n",
       "</div>"
      ],
      "text/plain": [
       "   pubid__yth_id_code_1997 keysex_symbol_1997  ...  \\\n",
       "0                     1.00             Female  ...   \n",
       "1                     2.00               Male  ...   \n",
       "2                     3.00             Female  ...   \n",
       "3                     4.00             Female  ...   \n",
       "4                     5.00               Male  ...   \n",
       "\n",
       "   hrsnight_r_sleeps_2017  cvc_wkswk_yr_all_l99  \n",
       "0                     nan                 52.00  \n",
       "1                    6.00                  0.00  \n",
       "2                    6.00                  0.00  \n",
       "3                    6.00                  4.00  \n",
       "4                    5.00                 12.00  \n",
       "\n",
       "[5 rows x 42 columns]"
      ]
     },
     "execution_count": 24,
     "metadata": {},
     "output_type": "execute_result"
    }
   ],
   "source": [
    "# pull sas data, using the sas catalog file for value labels\n",
    "nls97sas, metasas = pyreadstat.read_sas7bdat('data/nls97.sas7bdat', catalog_file='data/nlsformats3.sas7bcat', formats_as_category=True)\n",
    "nls97sas.columns = metasas.column_labels\n",
    "nls97sas.columns = nls97sas.columns.\\\n",
    "    str.lower().\\\n",
    "    str.replace(' ','_').\\\n",
    "    str.replace('[^a-z0-9_]', '')\n",
    "nls97sas.head()"
   ]
  },
  {
   "cell_type": "code",
   "execution_count": 25,
   "metadata": {},
   "outputs": [
    {
     "data": {
      "text/plain": [
       "Male      4599\n",
       "Female    4385\n",
       "Name: keysex_symbol_1997, dtype: int64"
      ]
     },
     "execution_count": 25,
     "metadata": {},
     "output_type": "execute_result"
    }
   ],
   "source": [
    "nls97sas.keysex_symbol_1997.value_counts()"
   ]
  },
  {
   "cell_type": "code",
   "execution_count": 26,
   "metadata": {},
   "outputs": [],
   "source": [
    "nls97sas.set_index('pubid__yth_id_code_1997', inplace=True)"
   ]
  },
  {
   "cell_type": "code",
   "execution_count": 27,
   "metadata": {},
   "outputs": [
    {
     "data": {
      "text/html": [
       "<div>\n",
       "<style scoped>\n",
       "    .dataframe tbody tr th:only-of-type {\n",
       "        vertical-align: middle;\n",
       "    }\n",
       "\n",
       "    .dataframe tbody tr th {\n",
       "        vertical-align: top;\n",
       "    }\n",
       "\n",
       "    .dataframe thead th {\n",
       "        text-align: right;\n",
       "    }\n",
       "</style>\n",
       "<table border=\"1\" class=\"dataframe\">\n",
       "  <thead>\n",
       "    <tr style=\"text-align: right;\">\n",
       "      <th></th>\n",
       "      <th>keysex_symbol_1997</th>\n",
       "      <th>keybdate_my_symbol_1997</th>\n",
       "      <th>...</th>\n",
       "      <th>hrsnight_r_sleeps_2017</th>\n",
       "      <th>cvc_wkswk_yr_all_l99</th>\n",
       "    </tr>\n",
       "    <tr>\n",
       "      <th>pubid__yth_id_code_1997</th>\n",
       "      <th></th>\n",
       "      <th></th>\n",
       "      <th></th>\n",
       "      <th></th>\n",
       "      <th></th>\n",
       "    </tr>\n",
       "  </thead>\n",
       "  <tbody>\n",
       "    <tr>\n",
       "      <th>1.00</th>\n",
       "      <td>Female</td>\n",
       "      <td>9.00</td>\n",
       "      <td>...</td>\n",
       "      <td>nan</td>\n",
       "      <td>52.00</td>\n",
       "    </tr>\n",
       "    <tr>\n",
       "      <th>2.00</th>\n",
       "      <td>Male</td>\n",
       "      <td>7.00</td>\n",
       "      <td>...</td>\n",
       "      <td>6.00</td>\n",
       "      <td>0.00</td>\n",
       "    </tr>\n",
       "    <tr>\n",
       "      <th>3.00</th>\n",
       "      <td>Female</td>\n",
       "      <td>9.00</td>\n",
       "      <td>...</td>\n",
       "      <td>6.00</td>\n",
       "      <td>0.00</td>\n",
       "    </tr>\n",
       "    <tr>\n",
       "      <th>4.00</th>\n",
       "      <td>Female</td>\n",
       "      <td>2.00</td>\n",
       "      <td>...</td>\n",
       "      <td>6.00</td>\n",
       "      <td>4.00</td>\n",
       "    </tr>\n",
       "    <tr>\n",
       "      <th>5.00</th>\n",
       "      <td>Male</td>\n",
       "      <td>10.00</td>\n",
       "      <td>...</td>\n",
       "      <td>5.00</td>\n",
       "      <td>12.00</td>\n",
       "    </tr>\n",
       "  </tbody>\n",
       "</table>\n",
       "<p>5 rows × 41 columns</p>\n",
       "</div>"
      ],
      "text/plain": [
       "                        keysex_symbol_1997  keybdate_my_symbol_1997  ...  \\\n",
       "pubid__yth_id_code_1997                                              ...   \n",
       "1.00                                Female                     9.00  ...   \n",
       "2.00                                  Male                     7.00  ...   \n",
       "3.00                                Female                     9.00  ...   \n",
       "4.00                                Female                     2.00  ...   \n",
       "5.00                                  Male                    10.00  ...   \n",
       "\n",
       "                         hrsnight_r_sleeps_2017 cvc_wkswk_yr_all_l99  \n",
       "pubid__yth_id_code_1997                                               \n",
       "1.00                                        nan                52.00  \n",
       "2.00                                       6.00                 0.00  \n",
       "3.00                                       6.00                 0.00  \n",
       "4.00                                       6.00                 4.00  \n",
       "5.00                                       5.00                12.00  \n",
       "\n",
       "[5 rows x 41 columns]"
      ]
     },
     "execution_count": 27,
     "metadata": {},
     "output_type": "execute_result"
    }
   ],
   "source": [
    "nls97sas.head()"
   ]
  }
 ],
 "metadata": {
  "kernelspec": {
   "display_name": "Python 3",
   "language": "python",
   "name": "python3"
  },
  "language_info": {
   "codemirror_mode": {
    "name": "ipython",
    "version": 3
   },
   "file_extension": ".py",
   "mimetype": "text/x-python",
   "name": "python",
   "nbconvert_exporter": "python",
   "pygments_lexer": "ipython3",
   "version": "3.8.5"
  }
 },
 "nbformat": 4,
 "nbformat_minor": 4
}
