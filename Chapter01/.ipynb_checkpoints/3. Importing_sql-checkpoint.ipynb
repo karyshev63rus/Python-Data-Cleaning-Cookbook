{
 "cells": [
  {
   "cell_type": "code",
   "execution_count": 1,
   "metadata": {},
   "outputs": [],
   "source": [
    "# import pandas, pymssql, and mysql\n",
    "import pandas as pd\n",
    "import numpy as np\n",
    "import pymssql\n",
    "# import mysql.connector"
   ]
  },
  {
   "cell_type": "code",
   "execution_count": 2,
   "metadata": {},
   "outputs": [],
   "source": [
    "pd.set_option('display.width', 75)\n",
    "pd.set_option('display.max_columns', 5)\n",
    "pd.options.display.float_format = '{:,.2f}'.format"
   ]
  },
  {
   "cell_type": "code",
   "execution_count": 3,
   "metadata": {},
   "outputs": [],
   "source": [
    "# set sql select statement to pull the data\n",
    "query = \"SELECT studentid, school, sex, age, famsize,\\\n",
    "  medu AS mothereducation, fedu AS fathereducation,\\\n",
    "  traveltime, studytime, failures, famrel, freetime,\\\n",
    "  goout, g1 AS gradeperiod1, g2 AS gradeperiod2,\\\n",
    "  g3 AS gradeperiod3 From studentmath\""
   ]
  },
  {
   "cell_type": "code",
   "execution_count": 4,
   "metadata": {},
   "outputs": [],
   "source": [
    "# use the pymssql api and read_sql to retrieve and load data from a SQL Server instance\n",
    "server = \"pdcc.c9sqqzd5fulv.us-west-2.rds.amazonaws.com\"\n",
    "user = \"pdccuser\"\n",
    "password = \"pdccpass\"\n",
    "database = \"pdcctest\"\n",
    "conn = pymssql.connect(server=server,\n",
    "  user=user, password=password, database=database)\n",
    "studentmath = pd.read_sql(query,conn)\n",
    "conn.close()"
   ]
  },
  {
   "cell_type": "code",
   "execution_count": 5,
   "metadata": {},
   "outputs": [],
   "source": [
    "# use the mysql api and read_sql to retrieve and load data from mysql\n",
    "# this will result in the same file as with the pymssql \n",
    "# host = \"pdccmysql.c9sqqzd5fulv.us-west-2.rds.amazonaws.com\"\n",
    "# user = \"pdccuser\"\n",
    "# password = \"pdccpass\"\n",
    "# database = \"pdccschema\"\n",
    "# connmysql = mysql.connector.connect(host=host,\n",
    "#   database=database,user=user,password=password)\n",
    "# studentmath = pd.read_sql(sqlselect,connmysql)\n",
    "# connmysql.close()"
   ]
  },
  {
   "cell_type": "code",
   "execution_count": 6,
   "metadata": {},
   "outputs": [
    {
     "data": {
      "text/plain": [
       "studentid          object\n",
       "school             object\n",
       "sex                object\n",
       "age                 int64\n",
       "famsize            object\n",
       "mothereducation     int64\n",
       "fathereducation     int64\n",
       "traveltime          int64\n",
       "studytime           int64\n",
       "failures            int64\n",
       "famrel              int64\n",
       "freetime            int64\n",
       "goout               int64\n",
       "gradeperiod1        int64\n",
       "gradeperiod2        int64\n",
       "gradeperiod3        int64\n",
       "dtype: object"
      ]
     },
     "execution_count": 6,
     "metadata": {},
     "output_type": "execute_result"
    }
   ],
   "source": [
    "studentmath.dtypes"
   ]
  },
  {
   "cell_type": "code",
   "execution_count": 7,
   "metadata": {},
   "outputs": [
    {
     "data": {
      "text/html": [
       "<div>\n",
       "<style scoped>\n",
       "    .dataframe tbody tr th:only-of-type {\n",
       "        vertical-align: middle;\n",
       "    }\n",
       "\n",
       "    .dataframe tbody tr th {\n",
       "        vertical-align: top;\n",
       "    }\n",
       "\n",
       "    .dataframe thead th {\n",
       "        text-align: right;\n",
       "    }\n",
       "</style>\n",
       "<table border=\"1\" class=\"dataframe\">\n",
       "  <thead>\n",
       "    <tr style=\"text-align: right;\">\n",
       "      <th></th>\n",
       "      <th>studentid</th>\n",
       "      <th>school</th>\n",
       "      <th>...</th>\n",
       "      <th>gradeperiod2</th>\n",
       "      <th>gradeperiod3</th>\n",
       "    </tr>\n",
       "  </thead>\n",
       "  <tbody>\n",
       "    <tr>\n",
       "      <th>0</th>\n",
       "      <td>001</td>\n",
       "      <td>GP</td>\n",
       "      <td>...</td>\n",
       "      <td>6</td>\n",
       "      <td>6</td>\n",
       "    </tr>\n",
       "    <tr>\n",
       "      <th>1</th>\n",
       "      <td>002</td>\n",
       "      <td>GP</td>\n",
       "      <td>...</td>\n",
       "      <td>5</td>\n",
       "      <td>6</td>\n",
       "    </tr>\n",
       "    <tr>\n",
       "      <th>2</th>\n",
       "      <td>003</td>\n",
       "      <td>GP</td>\n",
       "      <td>...</td>\n",
       "      <td>8</td>\n",
       "      <td>10</td>\n",
       "    </tr>\n",
       "    <tr>\n",
       "      <th>3</th>\n",
       "      <td>004</td>\n",
       "      <td>GP</td>\n",
       "      <td>...</td>\n",
       "      <td>14</td>\n",
       "      <td>15</td>\n",
       "    </tr>\n",
       "    <tr>\n",
       "      <th>4</th>\n",
       "      <td>005</td>\n",
       "      <td>GP</td>\n",
       "      <td>...</td>\n",
       "      <td>10</td>\n",
       "      <td>10</td>\n",
       "    </tr>\n",
       "  </tbody>\n",
       "</table>\n",
       "<p>5 rows × 16 columns</p>\n",
       "</div>"
      ],
      "text/plain": [
       "  studentid school  ... gradeperiod2  gradeperiod3\n",
       "0       001     GP  ...            6             6\n",
       "1       002     GP  ...            5             6\n",
       "2       003     GP  ...            8            10\n",
       "3       004     GP  ...           14            15\n",
       "4       005     GP  ...           10            10\n",
       "\n",
       "[5 rows x 16 columns]"
      ]
     },
     "execution_count": 7,
     "metadata": {},
     "output_type": "execute_result"
    }
   ],
   "source": [
    "studentmath.head()"
   ]
  },
  {
   "cell_type": "code",
   "execution_count": 8,
   "metadata": {},
   "outputs": [],
   "source": [
    "# rearrange columns and set an index\n",
    "newcolorder = ['studentid', 'gradeperiod1', 'gradeperiod2',\n",
    "  'gradeperiod3', 'school', 'sex', 'age', 'famsize',\n",
    "  'mothereducation', 'fathereducation', 'traveltime',\n",
    "  'studytime', 'freetime', 'failures', 'famrel',\n",
    "  'goout']\n",
    "studentmath = studentmath[newcolorder]"
   ]
  },
  {
   "cell_type": "code",
   "execution_count": 9,
   "metadata": {},
   "outputs": [
    {
     "data": {
      "text/plain": [
       "395"
      ]
     },
     "execution_count": 9,
     "metadata": {},
     "output_type": "execute_result"
    }
   ],
   "source": [
    "studentmath.studentid.count()"
   ]
  },
  {
   "cell_type": "code",
   "execution_count": 10,
   "metadata": {},
   "outputs": [
    {
     "data": {
      "text/plain": [
       "395"
      ]
     },
     "execution_count": 10,
     "metadata": {},
     "output_type": "execute_result"
    }
   ],
   "source": [
    "studentmath.studentid.nunique()"
   ]
  },
  {
   "cell_type": "code",
   "execution_count": 11,
   "metadata": {},
   "outputs": [],
   "source": [
    "studentmath.set_index('studentid', inplace=True)"
   ]
  },
  {
   "cell_type": "code",
   "execution_count": 12,
   "metadata": {},
   "outputs": [
    {
     "data": {
      "text/plain": [
       "gradeperiod1       395\n",
       "gradeperiod2       395\n",
       "gradeperiod3       395\n",
       "school             395\n",
       "sex                395\n",
       "age                395\n",
       "famsize            395\n",
       "mothereducation    395\n",
       "fathereducation    395\n",
       "traveltime         395\n",
       "studytime          395\n",
       "freetime           395\n",
       "failures           395\n",
       "famrel             395\n",
       "goout              395\n",
       "dtype: int64"
      ]
     },
     "execution_count": 12,
     "metadata": {},
     "output_type": "execute_result"
    }
   ],
   "source": [
    "studentmath.count()"
   ]
  },
  {
   "cell_type": "code",
   "execution_count": 13,
   "metadata": {},
   "outputs": [],
   "source": [
    "# add codes to data values\n",
    "setvalues={\"famrel\":{1:\"1:very bad\",2:\"2:bad\",3:\"3:neutral\",\n",
    "    4:\"4:good\",5:\"5:excellent\"},\n",
    "  \"freetime\":{1:\"1:very low\",2:\"2:low\",3:\"3:neutral\",\n",
    "    4:\"4:high\",5:\"5:very high\"},\n",
    "  \"goout\":{1:\"1:very low\",2:\"2:low\",3:\"3:neutral\",\n",
    "    4:\"4:high\",5:\"5:very high\"},\n",
    "  \"mothereducation\":{0:np.nan,1:\"1:k-4\",2:\"2:5-9\",\n",
    "    3:\"3:secondary ed\",4:\"4:higher ed\"},\n",
    "  \"fathereducation\":{0:np.nan,1:\"1:k-4\",2:\"2:5-9\",\n",
    "    3:\"3:secondary ed\",4:\"4:higher ed\"}}"
   ]
  },
  {
   "cell_type": "code",
   "execution_count": 14,
   "metadata": {},
   "outputs": [
    {
     "data": {
      "text/plain": [
       "famrel             3160\n",
       "freetime           3160\n",
       "goout              3160\n",
       "mothereducation    3160\n",
       "fathereducation    3160\n",
       "dtype: int64"
      ]
     },
     "execution_count": 14,
     "metadata": {},
     "output_type": "execute_result"
    }
   ],
   "source": [
    "studentmath.replace(setvalues, inplace=True)\n",
    "setvalueskeys = [k for k in setvalues]\n",
    "studentmath[setvalueskeys].memory_usage(index=False)"
   ]
  },
  {
   "cell_type": "code",
   "execution_count": 15,
   "metadata": {},
   "outputs": [
    {
     "data": {
      "text/plain": [
       "famrel             595\n",
       "freetime           595\n",
       "goout              595\n",
       "mothereducation    587\n",
       "fathereducation    587\n",
       "dtype: int64"
      ]
     },
     "execution_count": 15,
     "metadata": {},
     "output_type": "execute_result"
    }
   ],
   "source": [
    "for col in studentmath[setvalueskeys].columns:\n",
    "    studentmath[col] = studentmath[col].astype('category')\n",
    "\n",
    "studentmath[setvalueskeys].memory_usage(index=False)"
   ]
  },
  {
   "cell_type": "code",
   "execution_count": 16,
   "metadata": {},
   "outputs": [
    {
     "data": {
      "text/plain": [
       "1:very bad    0.02\n",
       "2:bad         0.05\n",
       "3:neutral     0.17\n",
       "4:good        0.49\n",
       "5:excellent   0.27\n",
       "Name: famrel, dtype: float64"
      ]
     },
     "execution_count": 16,
     "metadata": {},
     "output_type": "execute_result"
    }
   ],
   "source": [
    "# take a closer look at the new values\n",
    "studentmath['famrel'].value_counts(sort=False, normalize=True)"
   ]
  },
  {
   "cell_type": "code",
   "execution_count": 17,
   "metadata": {},
   "outputs": [
    {
     "data": {
      "text/html": [
       "<div>\n",
       "<style scoped>\n",
       "    .dataframe tbody tr th:only-of-type {\n",
       "        vertical-align: middle;\n",
       "    }\n",
       "\n",
       "    .dataframe tbody tr th {\n",
       "        vertical-align: top;\n",
       "    }\n",
       "\n",
       "    .dataframe thead th {\n",
       "        text-align: right;\n",
       "    }\n",
       "</style>\n",
       "<table border=\"1\" class=\"dataframe\">\n",
       "  <thead>\n",
       "    <tr style=\"text-align: right;\">\n",
       "      <th></th>\n",
       "      <th>freetime</th>\n",
       "      <th>goout</th>\n",
       "    </tr>\n",
       "  </thead>\n",
       "  <tbody>\n",
       "    <tr>\n",
       "      <th>1:very low</th>\n",
       "      <td>0.05</td>\n",
       "      <td>0.06</td>\n",
       "    </tr>\n",
       "    <tr>\n",
       "      <th>2:low</th>\n",
       "      <td>0.16</td>\n",
       "      <td>0.26</td>\n",
       "    </tr>\n",
       "    <tr>\n",
       "      <th>3:neutral</th>\n",
       "      <td>0.40</td>\n",
       "      <td>0.33</td>\n",
       "    </tr>\n",
       "    <tr>\n",
       "      <th>4:high</th>\n",
       "      <td>0.29</td>\n",
       "      <td>0.22</td>\n",
       "    </tr>\n",
       "    <tr>\n",
       "      <th>5:very high</th>\n",
       "      <td>0.10</td>\n",
       "      <td>0.13</td>\n",
       "    </tr>\n",
       "  </tbody>\n",
       "</table>\n",
       "</div>"
      ],
      "text/plain": [
       "             freetime  goout\n",
       "1:very low       0.05   0.06\n",
       "2:low            0.16   0.26\n",
       "3:neutral        0.40   0.33\n",
       "4:high           0.29   0.22\n",
       "5:very high      0.10   0.13"
      ]
     },
     "execution_count": 17,
     "metadata": {},
     "output_type": "execute_result"
    }
   ],
   "source": [
    "studentmath[['freetime','goout']].\\\n",
    "  apply(pd.Series.value_counts, sort=False, normalize=True)"
   ]
  },
  {
   "cell_type": "code",
   "execution_count": 18,
   "metadata": {},
   "outputs": [
    {
     "data": {
      "text/html": [
       "<div>\n",
       "<style scoped>\n",
       "    .dataframe tbody tr th:only-of-type {\n",
       "        vertical-align: middle;\n",
       "    }\n",
       "\n",
       "    .dataframe tbody tr th {\n",
       "        vertical-align: top;\n",
       "    }\n",
       "\n",
       "    .dataframe thead th {\n",
       "        text-align: right;\n",
       "    }\n",
       "</style>\n",
       "<table border=\"1\" class=\"dataframe\">\n",
       "  <thead>\n",
       "    <tr style=\"text-align: right;\">\n",
       "      <th></th>\n",
       "      <th>mothereducation</th>\n",
       "      <th>fathereducation</th>\n",
       "    </tr>\n",
       "  </thead>\n",
       "  <tbody>\n",
       "    <tr>\n",
       "      <th>1:k-4</th>\n",
       "      <td>0.15</td>\n",
       "      <td>0.21</td>\n",
       "    </tr>\n",
       "    <tr>\n",
       "      <th>2:5-9</th>\n",
       "      <td>0.26</td>\n",
       "      <td>0.29</td>\n",
       "    </tr>\n",
       "    <tr>\n",
       "      <th>3:secondary ed</th>\n",
       "      <td>0.25</td>\n",
       "      <td>0.25</td>\n",
       "    </tr>\n",
       "    <tr>\n",
       "      <th>4:higher ed</th>\n",
       "      <td>0.33</td>\n",
       "      <td>0.24</td>\n",
       "    </tr>\n",
       "  </tbody>\n",
       "</table>\n",
       "</div>"
      ],
      "text/plain": [
       "                mothereducation  fathereducation\n",
       "1:k-4                      0.15             0.21\n",
       "2:5-9                      0.26             0.29\n",
       "3:secondary ed             0.25             0.25\n",
       "4:higher ed                0.33             0.24"
      ]
     },
     "execution_count": 18,
     "metadata": {},
     "output_type": "execute_result"
    }
   ],
   "source": [
    "studentmath[['mothereducation','fathereducation']].\\\n",
    "  apply(pd.Series.value_counts, sort=False, normalize=True)"
   ]
  }
 ],
 "metadata": {
  "kernelspec": {
   "display_name": "Python 3",
   "language": "python",
   "name": "python3"
  },
  "language_info": {
   "codemirror_mode": {
    "name": "ipython",
    "version": 3
   },
   "file_extension": ".py",
   "mimetype": "text/x-python",
   "name": "python",
   "nbconvert_exporter": "python",
   "pygments_lexer": "ipython3",
   "version": "3.8.5"
  }
 },
 "nbformat": 4,
 "nbformat_minor": 4
}
