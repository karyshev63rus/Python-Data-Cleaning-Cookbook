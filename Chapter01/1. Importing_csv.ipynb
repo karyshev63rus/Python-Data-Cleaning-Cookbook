{
 "cells": [
  {
   "cell_type": "code",
   "execution_count": 1,
   "metadata": {},
   "outputs": [],
   "source": [
    "import pandas as pd"
   ]
  },
  {
   "cell_type": "code",
   "execution_count": 2,
   "metadata": {},
   "outputs": [],
   "source": [
    "pd.options.display.float_format = '{:,.3f}'.format\n",
    "pd.set_option('display.width', 75)\n",
    "pd.set_option('display.max_columns', 10)"
   ]
  },
  {
   "cell_type": "code",
   "execution_count": 3,
   "metadata": {},
   "outputs": [],
   "source": [
    "# import the land temperature data\n",
    "landtemps = pd.read_csv('data/landtempssample.csv',\n",
    "    names=['stationid','year','month','avgtemp','latitude',\n",
    "      'longitude','elevation','station','countryid','country'],\n",
    "    skiprows=1,\n",
    "    parse_dates=[['month','year']],\n",
    "    low_memory=False)"
   ]
  },
  {
   "cell_type": "code",
   "execution_count": 4,
   "metadata": {},
   "outputs": [
    {
     "data": {
      "text/plain": [
       "pandas.core.frame.DataFrame"
      ]
     },
     "execution_count": 4,
     "metadata": {},
     "output_type": "execute_result"
    }
   ],
   "source": [
    "type(landtemps)"
   ]
  },
  {
   "cell_type": "code",
   "execution_count": 5,
   "metadata": {},
   "outputs": [
    {
     "data": {
      "text/html": [
       "<div>\n",
       "<style scoped>\n",
       "    .dataframe tbody tr th:only-of-type {\n",
       "        vertical-align: middle;\n",
       "    }\n",
       "\n",
       "    .dataframe tbody tr th {\n",
       "        vertical-align: top;\n",
       "    }\n",
       "\n",
       "    .dataframe thead th {\n",
       "        text-align: right;\n",
       "    }\n",
       "</style>\n",
       "<table border=\"1\" class=\"dataframe\">\n",
       "  <thead>\n",
       "    <tr style=\"text-align: right;\">\n",
       "      <th></th>\n",
       "      <th>month_year</th>\n",
       "      <th>stationid</th>\n",
       "      <th>avgtemp</th>\n",
       "      <th>latitude</th>\n",
       "      <th>longitude</th>\n",
       "      <th>elevation</th>\n",
       "      <th>station</th>\n",
       "      <th>countryid</th>\n",
       "      <th>country</th>\n",
       "    </tr>\n",
       "  </thead>\n",
       "  <tbody>\n",
       "    <tr>\n",
       "      <th>0</th>\n",
       "      <td>2000-04-01</td>\n",
       "      <td>USS0010K01S</td>\n",
       "      <td>5.270</td>\n",
       "      <td>39.900</td>\n",
       "      <td>-110.750</td>\n",
       "      <td>2,773.700</td>\n",
       "      <td>INDIAN_CANYON</td>\n",
       "      <td>US</td>\n",
       "      <td>United States</td>\n",
       "    </tr>\n",
       "    <tr>\n",
       "      <th>1</th>\n",
       "      <td>1940-05-01</td>\n",
       "      <td>CI000085406</td>\n",
       "      <td>18.040</td>\n",
       "      <td>-18.350</td>\n",
       "      <td>-70.333</td>\n",
       "      <td>58.000</td>\n",
       "      <td>ARICA</td>\n",
       "      <td>CI</td>\n",
       "      <td>Chile</td>\n",
       "    </tr>\n",
       "    <tr>\n",
       "      <th>2</th>\n",
       "      <td>2013-12-01</td>\n",
       "      <td>USC00036376</td>\n",
       "      <td>6.220</td>\n",
       "      <td>34.370</td>\n",
       "      <td>-91.124</td>\n",
       "      <td>61.000</td>\n",
       "      <td>SAINT_CHARLES</td>\n",
       "      <td>US</td>\n",
       "      <td>United States</td>\n",
       "    </tr>\n",
       "    <tr>\n",
       "      <th>3</th>\n",
       "      <td>1963-02-01</td>\n",
       "      <td>ASN00024002</td>\n",
       "      <td>22.930</td>\n",
       "      <td>-34.283</td>\n",
       "      <td>140.600</td>\n",
       "      <td>65.500</td>\n",
       "      <td>BERRI_IRRIGATION</td>\n",
       "      <td>AS</td>\n",
       "      <td>Australia</td>\n",
       "    </tr>\n",
       "    <tr>\n",
       "      <th>4</th>\n",
       "      <td>2001-11-01</td>\n",
       "      <td>ASN00028007</td>\n",
       "      <td>nan</td>\n",
       "      <td>-14.780</td>\n",
       "      <td>143.504</td>\n",
       "      <td>79.400</td>\n",
       "      <td>MUSGRAVE</td>\n",
       "      <td>AS</td>\n",
       "      <td>Australia</td>\n",
       "    </tr>\n",
       "    <tr>\n",
       "      <th>5</th>\n",
       "      <td>1991-04-01</td>\n",
       "      <td>USW00024151</td>\n",
       "      <td>5.590</td>\n",
       "      <td>42.149</td>\n",
       "      <td>-112.287</td>\n",
       "      <td>1,362.500</td>\n",
       "      <td>MALAD_CITY</td>\n",
       "      <td>US</td>\n",
       "      <td>United States</td>\n",
       "    </tr>\n",
       "    <tr>\n",
       "      <th>6</th>\n",
       "      <td>1993-12-01</td>\n",
       "      <td>RSM00022641</td>\n",
       "      <td>-10.170</td>\n",
       "      <td>63.900</td>\n",
       "      <td>38.117</td>\n",
       "      <td>13.000</td>\n",
       "      <td>ONEGA</td>\n",
       "      <td>RS</td>\n",
       "      <td>Russia</td>\n",
       "    </tr>\n",
       "  </tbody>\n",
       "</table>\n",
       "</div>"
      ],
      "text/plain": [
       "  month_year    stationid  avgtemp  latitude  longitude  elevation  \\\n",
       "0 2000-04-01  USS0010K01S    5.270    39.900   -110.750  2,773.700   \n",
       "1 1940-05-01  CI000085406   18.040   -18.350    -70.333     58.000   \n",
       "2 2013-12-01  USC00036376    6.220    34.370    -91.124     61.000   \n",
       "3 1963-02-01  ASN00024002   22.930   -34.283    140.600     65.500   \n",
       "4 2001-11-01  ASN00028007      nan   -14.780    143.504     79.400   \n",
       "5 1991-04-01  USW00024151    5.590    42.149   -112.287  1,362.500   \n",
       "6 1993-12-01  RSM00022641  -10.170    63.900     38.117     13.000   \n",
       "\n",
       "            station countryid        country  \n",
       "0     INDIAN_CANYON        US  United States  \n",
       "1             ARICA        CI          Chile  \n",
       "2     SAINT_CHARLES        US  United States  \n",
       "3  BERRI_IRRIGATION        AS      Australia  \n",
       "4          MUSGRAVE        AS      Australia  \n",
       "5        MALAD_CITY        US  United States  \n",
       "6             ONEGA        RS         Russia  "
      ]
     },
     "execution_count": 5,
     "metadata": {},
     "output_type": "execute_result"
    }
   ],
   "source": [
    "# show enough data to get a sense of how the import went\n",
    "landtemps.head(7)"
   ]
  },
  {
   "cell_type": "code",
   "execution_count": 6,
   "metadata": {},
   "outputs": [
    {
     "data": {
      "text/plain": [
       "month_year    datetime64[ns]\n",
       "stationid             object\n",
       "avgtemp              float64\n",
       "latitude             float64\n",
       "longitude            float64\n",
       "elevation            float64\n",
       "station               object\n",
       "countryid             object\n",
       "country               object\n",
       "dtype: object"
      ]
     },
     "execution_count": 6,
     "metadata": {},
     "output_type": "execute_result"
    }
   ],
   "source": [
    "landtemps.dtypes"
   ]
  },
  {
   "cell_type": "code",
   "execution_count": 7,
   "metadata": {},
   "outputs": [
    {
     "data": {
      "text/plain": [
       "(100000, 9)"
      ]
     },
     "execution_count": 7,
     "metadata": {},
     "output_type": "execute_result"
    }
   ],
   "source": [
    "landtemps.shape"
   ]
  },
  {
   "cell_type": "code",
   "execution_count": 8,
   "metadata": {},
   "outputs": [],
   "source": [
    "# fix the column name for the date\n",
    "landtemps.rename(columns={'month_year':'measuredate'}, inplace=True)"
   ]
  },
  {
   "cell_type": "code",
   "execution_count": 9,
   "metadata": {},
   "outputs": [
    {
     "data": {
      "text/plain": [
       "measuredate    datetime64[ns]\n",
       "stationid              object\n",
       "avgtemp               float64\n",
       "latitude              float64\n",
       "longitude             float64\n",
       "elevation             float64\n",
       "station                object\n",
       "countryid              object\n",
       "country                object\n",
       "dtype: object"
      ]
     },
     "execution_count": 9,
     "metadata": {},
     "output_type": "execute_result"
    }
   ],
   "source": [
    "landtemps.dtypes"
   ]
  },
  {
   "cell_type": "code",
   "execution_count": 10,
   "metadata": {},
   "outputs": [
    {
     "data": {
      "text/plain": [
       "count   85,554.000\n",
       "mean        10.921\n",
       "std         11.522\n",
       "min        -70.700\n",
       "25%          3.460\n",
       "50%         12.220\n",
       "75%         19.570\n",
       "max         39.950\n",
       "Name: avgtemp, dtype: float64"
      ]
     },
     "execution_count": 10,
     "metadata": {},
     "output_type": "execute_result"
    }
   ],
   "source": [
    "landtemps.avgtemp.describe()"
   ]
  },
  {
   "cell_type": "code",
   "execution_count": 11,
   "metadata": {},
   "outputs": [
    {
     "data": {
      "text/plain": [
       "measuredate        0\n",
       "stationid          0\n",
       "avgtemp        14446\n",
       "latitude           0\n",
       "longitude          0\n",
       "elevation          0\n",
       "station            0\n",
       "countryid          0\n",
       "country            5\n",
       "dtype: int64"
      ]
     },
     "execution_count": 11,
     "metadata": {},
     "output_type": "execute_result"
    }
   ],
   "source": [
    "landtemps.isnull().sum()"
   ]
  },
  {
   "cell_type": "code",
   "execution_count": 12,
   "metadata": {},
   "outputs": [],
   "source": [
    "# remove rows with missing values\n",
    "landtemps.dropna(subset=['avgtemp'], inplace=True)"
   ]
  },
  {
   "cell_type": "code",
   "execution_count": 13,
   "metadata": {},
   "outputs": [
    {
     "data": {
      "text/plain": [
       "(85554, 9)"
      ]
     },
     "execution_count": 13,
     "metadata": {},
     "output_type": "execute_result"
    }
   ],
   "source": [
    "landtemps.shape"
   ]
  }
 ],
 "metadata": {
  "kernelspec": {
   "display_name": "Python 3",
   "language": "python",
   "name": "python3"
  },
  "language_info": {
   "codemirror_mode": {
    "name": "ipython",
    "version": 3
   },
   "file_extension": ".py",
   "mimetype": "text/x-python",
   "name": "python",
   "nbconvert_exporter": "python",
   "pygments_lexer": "ipython3",
   "version": "3.8.5"
  }
 },
 "nbformat": 4,
 "nbformat_minor": 4
}
